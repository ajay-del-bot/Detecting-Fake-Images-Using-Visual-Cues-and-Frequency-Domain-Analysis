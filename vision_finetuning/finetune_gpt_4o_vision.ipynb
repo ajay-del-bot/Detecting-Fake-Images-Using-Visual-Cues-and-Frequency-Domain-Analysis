{
 "cells": [
  {
   "cell_type": "markdown",
   "id": "79312819",
   "metadata": {},
   "source": [
    "### Finetune GPT-4o Vision"
   ]
  },
  {
   "cell_type": "code",
   "execution_count": null,
   "id": "26639e9e-483c-4a10-a0d1-453601c4b2ef",
   "metadata": {},
   "outputs": [],
   "source": [
    "import os\n",
    "from openai import OpenAI\n",
    "os.environ[\"OPENAI_API_KEY\"] = \"\"\n",
    "client = OpenAI()"
   ]
  },
  {
   "cell_type": "code",
   "execution_count": 7,
   "id": "6f56c1ad-3e8b-4e45-a0b2-8f5e351688f0",
   "metadata": {},
   "outputs": [],
   "source": [
    "image_path = \"/Users/abdulrahmanalrabah/Desktop/UIUC/Fall 2024/CS 543/project/projective-geometry/dataset/Kandinsky_Indoor/test/real/99000.jpg\""
   ]
  },
  {
   "cell_type": "code",
   "execution_count": 8,
   "id": "d3a0b2b6-a953-4607-ad39-46c65f389d14",
   "metadata": {},
   "outputs": [
    {
     "name": "stdout",
     "output_type": "stream",
     "text": [
      "Choice(finish_reason='stop', index=0, logprobs=None, message=ChatCompletionMessage(content='The image shows a modest bedroom featuring a bed with floral bedding, a chair, and a window with lace curtains.', refusal=None, role='assistant', audio=None, function_call=None, tool_calls=None))\n"
     ]
    }
   ],
   "source": [
    "import base64\n",
    "\n",
    "def encode_image(image_path):\n",
    "  with open(image_path, \"rb\") as image_file:\n",
    "    return base64.b64encode(image_file.read()).decode('utf-8')\n",
    "\n",
    "base64_image = encode_image(image_path)\n",
    "image_url  = f\"data:image/jpeg;base64,{base64_image}\"\n",
    "\n",
    "response = client.chat.completions.create(\n",
    "  model=\"gpt-4o-mini\",\n",
    "  messages=[\n",
    "    {\n",
    "      \"role\": \"user\",\n",
    "      \"content\": [\n",
    "        {\"type\": \"text\", \"text\": \"What’s in this image, answer in one senetence?\"},\n",
    "        {\n",
    "          \"type\": \"image_url\",\n",
    "          \"image_url\": {\n",
    "            \"url\": image_url,\n",
    "          },\n",
    "        },\n",
    "      ],\n",
    "    }\n",
    "  ],\n",
    "  max_tokens=100,\n",
    ")\n",
    "\n",
    "print(response.choices[0])"
   ]
  },
  {
   "cell_type": "code",
   "execution_count": null,
   "id": "9ed531c6",
   "metadata": {},
   "outputs": [
    {
     "name": "stdout",
     "output_type": "stream",
     "text": [
      "Processed 20 real images and 20 fake images.\n",
      "Output file: /Users/abdulrahmanalrabah/Desktop/UIUC/Fall 2024/CS 543/project/projective-geometry/vision_finetuning/Kandinsky_indoor/real_fake_train.jsonl\n"
     ]
    }
   ],
   "source": [
    "import glob\n",
    "import json\n",
    "import os\n",
    "import base64\n",
    "\n",
    "def encode_image(image_path):\n",
    "    try:\n",
    "        with open(image_path, \"rb\") as image_file:\n",
    "            return base64.b64encode(image_file.read()).decode('utf-8')\n",
    "    except FileNotFoundError:\n",
    "        print(f\"File not found: {image_path}\")\n",
    "        return None\n",
    "    except Exception as e:\n",
    "        print(f\"Error encoding image {image_path}: {e}\")\n",
    "        return None\n",
    "\n",
    "real_images_path = \"/Users/abdulrahmanalrabah/Desktop/UIUC/Fall 2024/CS 543/project/projective-geometry/vision_finetuning/Kandinsky_indoor/Kandinsky_indoor_real/*\"\n",
    "fake_images_path = \"/Users/abdulrahmanalrabah/Desktop/UIUC/Fall 2024/CS 543/project/projective-geometry/vision_finetuning/Kandinsky_indoor/Kandinsky_indoor_fake/*\"\n",
    "\n",
    "# Output JSONL file\n",
    "output_file = \"/Users/abdulrahmanalrabah/Desktop/UIUC/Fall 2024/CS 543/project/projective-geometry/vision_finetuning/Kandinsky_indoor/real_fake_train.jsonl\"\n",
    "\n",
    "processed_count = {\"real\": 0, \"fake\": 0}\n",
    "\n",
    "with open(output_file, \"w\") as fp:\n",
    "    for image_path in glob.iglob(real_images_path):\n",
    "        base64_image = encode_image(image_path)\n",
    "        if base64_image is None:\n",
    "            continue\n",
    "        \n",
    "        image_url = f\"data:image/jpeg;base64,{base64_image}\"\n",
    "\n",
    "        ground_truth = {\"label\": \"real\"}\n",
    "\n",
    "        example = {\n",
    "            \"messages\": [\n",
    "                {\"role\": \"system\", \n",
    "                 \"content\": \"You are an assistant that classifies images as real or fake.\"},\n",
    "                {\"role\": \"user\", \n",
    "                 \"content\": \"Classify the image as either real or fake.\"},\n",
    "                {\"role\": \"user\", \n",
    "                 \"content\": [\n",
    "                     {\n",
    "                         \"type\": \"image_url\",\n",
    "                         \"image_url\": {\n",
    "                             \"url\": image_url\n",
    "                         }\n",
    "                     }\n",
    "                 ]},\n",
    "                {\"role\": \"assistant\", \"content\": f\"{ground_truth}\"}\n",
    "            ]\n",
    "        }\n",
    "\n",
    "        example_str = json.dumps(example)\n",
    "        fp.write(example_str + \"\\n\")\n",
    "        processed_count[\"real\"] += 1\n",
    "\n",
    "    # Process fake images\n",
    "    for image_path in glob.iglob(fake_images_path):\n",
    "        base64_image = encode_image(image_path)\n",
    "        if base64_image is None:\n",
    "            continue\n",
    "        \n",
    "        image_url = f\"data:image/jpeg;base64,{base64_image}\"\n",
    "\n",
    "        ground_truth = {\"label\": \"fake\"}\n",
    "\n",
    "        example = {\n",
    "            \"messages\": [\n",
    "                {\"role\": \"system\", \n",
    "                 \"content\": \"You are an assistant that classifies images as real or fake.\"},\n",
    "                {\"role\": \"user\", \n",
    "                 \"content\": \"Classify the image as either real or fake.\"},\n",
    "                {\"role\": \"user\", \n",
    "                 \"content\": [\n",
    "                     {\n",
    "                         \"type\": \"image_url\",\n",
    "                         \"image_url\": {\n",
    "                             \"url\": image_url\n",
    "                         }\n",
    "                     }\n",
    "                 ]},\n",
    "                {\"role\": \"assistant\", \"content\": f\"{ground_truth}\"}\n",
    "            ]\n",
    "        }\n",
    "\n",
    "        example_str = json.dumps(example)\n",
    "        fp.write(example_str + \"\\n\")\n",
    "        processed_count[\"fake\"] += 1\n",
    "\n",
    "print(f\"Processed {processed_count['real']} real images and {processed_count['fake']} fake images.\")\n",
    "print(f\"Output file: {output_file}\")\n"
   ]
  }
 ],
 "metadata": {
  "kernelspec": {
   "display_name": "base",
   "language": "python",
   "name": "python3"
  },
  "language_info": {
   "codemirror_mode": {
    "name": "ipython",
    "version": 3
   },
   "file_extension": ".py",
   "mimetype": "text/x-python",
   "name": "python",
   "nbconvert_exporter": "python",
   "pygments_lexer": "ipython3",
   "version": "3.11.5"
  }
 },
 "nbformat": 4,
 "nbformat_minor": 5
}
